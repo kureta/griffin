{
 "cells": [
  {
   "cell_type": "code",
   "execution_count": null,
   "id": "d32e5ec3",
   "metadata": {},
   "outputs": [],
   "source": [
    "import matplotlib.pyplot as plt\n",
    "%matplotlib inline\n",
    "import librosa\n",
    "import librosa.display\n",
    "import numpy as np\n",
    "from IPython.display import Audio"
   ]
  },
  {
   "cell_type": "code",
   "execution_count": null,
   "id": "cc0e673d",
   "metadata": {},
   "outputs": [],
   "source": [
    "import torch\n",
    "import torchaudio as ta"
   ]
  },
  {
   "cell_type": "code",
   "execution_count": null,
   "id": "6bb6fae4",
   "metadata": {},
   "outputs": [],
   "source": [
    "PATH = '/home/kureta/Music/violin/Violin Samples/yee_amazing_grace.wav'"
   ]
  },
  {
   "cell_type": "code",
   "execution_count": null,
   "id": "14aea759",
   "metadata": {},
   "outputs": [],
   "source": [
    "y, sr = librosa.load(PATH, mono=True, sr=16000)"
   ]
  },
  {
   "cell_type": "code",
   "execution_count": null,
   "id": "8c60356d",
   "metadata": {},
   "outputs": [],
   "source": [
    "s = np.abs(librosa.stft(y, n_fft=2048, hop_length=512))"
   ]
  },
  {
   "cell_type": "code",
   "execution_count": null,
   "id": "b395ec46",
   "metadata": {},
   "outputs": [],
   "source": [
    "librosa.display.specshow(librosa.amplitude_to_db(s[0]))"
   ]
  },
  {
   "cell_type": "code",
   "execution_count": null,
   "id": "47641f08",
   "metadata": {},
   "outputs": [],
   "source": [
    "s[:, 0, :] = 0.0"
   ]
  },
  {
   "cell_type": "code",
   "execution_count": null,
   "id": "46522628",
   "metadata": {},
   "outputs": [],
   "source": [
    "%timeit y_hat = librosa.griffinlim(s, n_fft=2048, hop_length=512)"
   ]
  },
  {
   "cell_type": "code",
   "execution_count": null,
   "id": "a7a883e4",
   "metadata": {},
   "outputs": [],
   "source": [
    "y_hat = librosa.griffinlim(s, n_fft=2048, hop_length=512)"
   ]
  },
  {
   "cell_type": "code",
   "execution_count": null,
   "id": "f1f42393",
   "metadata": {},
   "outputs": [],
   "source": [
    "Audio(y_hat, rate=sr, normalize=False)"
   ]
  },
  {
   "cell_type": "code",
   "execution_count": null,
   "id": "eba6f8bb",
   "metadata": {},
   "outputs": [],
   "source": [
    "gl = ta.transforms.GriffinLim(n_fft=2048, hop_length=512, power=1.0)"
   ]
  },
  {
   "cell_type": "code",
   "execution_count": null,
   "id": "77add8bf",
   "metadata": {},
   "outputs": [],
   "source": [
    "%%timeit\n",
    "yt_hat = gl(torch.from_numpy(s))"
   ]
  },
  {
   "cell_type": "code",
   "execution_count": null,
   "id": "2253b102",
   "metadata": {},
   "outputs": [],
   "source": [
    "yt_hat = gl(torch.from_numpy(s))"
   ]
  },
  {
   "cell_type": "code",
   "execution_count": null,
   "id": "8a6f58de",
   "metadata": {},
   "outputs": [],
   "source": [
    "Audio(yt_hat, rate=sr, normalize=False)"
   ]
  },
  {
   "cell_type": "code",
   "execution_count": null,
   "id": "b20f1158",
   "metadata": {},
   "outputs": [],
   "source": [
    "gl = gl.cuda()\n",
    "ss =torch.from_numpy(s).cuda()"
   ]
  },
  {
   "cell_type": "code",
   "execution_count": null,
   "id": "9dd61766",
   "metadata": {},
   "outputs": [],
   "source": [
    "%%timeit\n",
    "y_hat = gl(ss)"
   ]
  },
  {
   "cell_type": "code",
   "execution_count": null,
   "id": "885ba820",
   "metadata": {},
   "outputs": [],
   "source": [
    "y_hat = gl(ss)"
   ]
  },
  {
   "cell_type": "code",
   "execution_count": null,
   "id": "b8ee7181",
   "metadata": {},
   "outputs": [],
   "source": [
    "Audio(yt_hat, rate=sr, normalize=False)"
   ]
  },
  {
   "cell_type": "code",
   "execution_count": null,
   "id": "79c040ae",
   "metadata": {},
   "outputs": [],
   "source": [
    "import sys\n",
    "from pathlib import Path"
   ]
  },
  {
   "cell_type": "code",
   "execution_count": null,
   "id": "286f6184",
   "metadata": {},
   "outputs": [],
   "source": [
    "sys.path.append(str(Path.cwd() / 'torchcrepe'))"
   ]
  },
  {
   "cell_type": "code",
   "execution_count": null,
   "id": "4433b0f7",
   "metadata": {},
   "outputs": [],
   "source": [
    "from torchcrepe import predict\n",
    "from torchcrepe.decode import argmax, weighted_argmax, viterbi"
   ]
  },
  {
   "cell_type": "code",
   "execution_count": null,
   "id": "0979ca28",
   "metadata": {},
   "outputs": [],
   "source": [
    "pitches = predict(torch.from_numpy(y).unsqueeze(0).cuda(), 16000, hop_length=256, decoder=viterbi, device='cuda')"
   ]
  },
  {
   "cell_type": "code",
   "execution_count": null,
   "id": "009b1dab",
   "metadata": {},
   "outputs": [],
   "source": [
    "pitches"
   ]
  },
  {
   "cell_type": "code",
   "execution_count": null,
   "id": "4a705000",
   "metadata": {},
   "outputs": [],
   "source": []
  }
 ],
 "metadata": {
  "kernelspec": {
   "display_name": "Python 3 (ipykernel)",
   "language": "python",
   "name": "python3"
  },
  "language_info": {
   "codemirror_mode": {
    "name": "ipython",
    "version": 3
   },
   "file_extension": ".py",
   "mimetype": "text/x-python",
   "name": "python",
   "nbconvert_exporter": "python",
   "pygments_lexer": "ipython3",
   "version": "3.10.3"
  }
 },
 "nbformat": 4,
 "nbformat_minor": 5
}
