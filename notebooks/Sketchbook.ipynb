{
 "cells": [
  {
   "cell_type": "code",
   "execution_count": null,
   "id": "22da2524",
   "metadata": {},
   "outputs": [],
   "source": [
    "import sys\n",
    "from pathlib import Path\n",
    "sys.path.append(str(Path.cwd() / 'torchcrepe'))"
   ]
  },
  {
   "cell_type": "code",
   "execution_count": null,
   "id": "d32e5ec3",
   "metadata": {},
   "outputs": [],
   "source": [
    "import matplotlib.pyplot as plt\n",
    "%matplotlib inline\n",
    "import librosa\n",
    "import librosa.display\n",
    "import numpy as np\n",
    "from IPython.display import Audio"
   ]
  },
  {
   "cell_type": "code",
   "execution_count": null,
   "id": "cc0e673d",
   "metadata": {},
   "outputs": [],
   "source": [
    "import torch\n",
    "from torchaudio.transforms import GriffinLim\n",
    "from torchvision.transforms import functional as tvf\n",
    "from torchcrepe import predict\n",
    "from torchcrepe.decode import argmax, weighted_argmax, viterbi"
   ]
  },
  {
   "cell_type": "code",
   "execution_count": null,
   "id": "6bb6fae4",
   "metadata": {},
   "outputs": [],
   "source": [
    "PATH = '/home/kureta/Music/violin/Violin Samples/yee_arp_ricochet_130#4.wav'"
   ]
  },
  {
   "cell_type": "code",
   "execution_count": null,
   "id": "1a4bafe9",
   "metadata": {},
   "outputs": [],
   "source": [
    "def next_power_of_2(n):\n",
    "    n = int(np.ceil(n))\n",
    "    if (n and not(n & (n - 1))):\n",
    "        return n\n",
    " \n",
    "    p = 1\n",
    "    while (p < n) :\n",
    "        p <<= 1\n",
    "         \n",
    "    return p;"
   ]
  },
  {
   "cell_type": "markdown",
   "id": "a2dd6ad3",
   "metadata": {},
   "source": [
    "## DataModule Parameters\n",
    "\n",
    "- sample_rate\n",
    "- n_fft\n",
    "- hop_length\n",
    "- example_duration\n",
    "- example_hop_length\n",
    "- n_channels (1 or 2) or is_mono (bool)\n",
    "- batch_size"
   ]
  },
  {
   "cell_type": "code",
   "execution_count": null,
   "id": "93da9f1a",
   "metadata": {},
   "outputs": [],
   "source": [
    "SAMPLE_RATE = 44100\n",
    "HOP_LENGTH = 512\n",
    "N_FFT = 2048\n",
    "\n",
    "# crepe hop length has to be the smallest power of 2 greater than `HOP_LENGTH * CREPE_SAMPLE_RATE / SAMPLE_RATE`\n",
    "CREPE_SAMPLE_RATE = 16000\n",
    "CREPE_HOP_LENGTH = next_power_of_2(HOP_LENGTH * CREPE_SAMPLE_RATE / SAMPLE_RATE)"
   ]
  },
  {
   "cell_type": "code",
   "execution_count": null,
   "id": "14aea759",
   "metadata": {},
   "outputs": [],
   "source": [
    "y, sr = librosa.load(PATH, mono=False, sr=SAMPLE_RATE)"
   ]
  },
  {
   "cell_type": "code",
   "execution_count": null,
   "id": "1e02fb8a",
   "metadata": {},
   "outputs": [],
   "source": [
    "Audio(y, rate=SAMPLE_RATE, normalize=False)"
   ]
  },
  {
   "cell_type": "code",
   "execution_count": null,
   "id": "8c60356d",
   "metadata": {},
   "outputs": [],
   "source": [
    "s = np.abs(librosa.stft(y, n_fft=N_FFT, hop_length=HOP_LENGTH))\n",
    "# zero out DC offset\n",
    "s[:, 0, :] = 0.0"
   ]
  },
  {
   "cell_type": "code",
   "execution_count": null,
   "id": "50150610",
   "metadata": {},
   "outputs": [],
   "source": [
    "sdb = librosa.amplitude_to_db(s[0], amin=1e-6, top_db=96)\n",
    "sm = s[0]"
   ]
  },
  {
   "cell_type": "code",
   "execution_count": null,
   "id": "44477107",
   "metadata": {},
   "outputs": [],
   "source": [
    "sdbn = (sdb - np.mean(sdb, axis=0, keepdims=True)) / np.std(sdb, axis=0, keepdims=True)\n",
    "smn = (sm - np.mean(sm, axis=0, keepdims=True)) / np.std(sm, axis=0, keepdims=True)"
   ]
  },
  {
   "cell_type": "code",
   "execution_count": null,
   "id": "9fd8f08d",
   "metadata": {},
   "outputs": [],
   "source": [
    "librosa.display.specshow(sdbn)"
   ]
  },
  {
   "cell_type": "code",
   "execution_count": null,
   "id": "47641f08",
   "metadata": {},
   "outputs": [],
   "source": [
    "pitches, harmonicity = predict(torch.from_numpy(y).cuda(), sample_rate=16000, hop_length=256, device='cuda',\n",
    "                               return_harmonicity=True, decoder=argmax)\n",
    "pitches = tvf.resize(pitches.unsqueeze(1), [1, s.shape[2]]).squeeze(1)\n",
    "harmonicity = tvf.resize(harmonicity.unsqueeze(1), [1, s.shape[2]]).squeeze(1)"
   ]
  },
  {
   "cell_type": "code",
   "execution_count": null,
   "id": "66a17198",
   "metadata": {},
   "outputs": [],
   "source": [
    "plt.plot(pitches[0].cpu())\n",
    "plt.show()"
   ]
  },
  {
   "cell_type": "code",
   "execution_count": null,
   "id": "cf0b51fc",
   "metadata": {},
   "outputs": [],
   "source": [
    "gl = GriffinLim(n_fft=N_FFT, hop_length=HOP_LENGTH, power=1.0, n_iter=128).cuda()"
   ]
  },
  {
   "cell_type": "code",
   "execution_count": null,
   "id": "63eda5de",
   "metadata": {},
   "outputs": [],
   "source": [
    "y_hat = gl(torch.from_numpy(s).cuda())"
   ]
  },
  {
   "cell_type": "code",
   "execution_count": null,
   "id": "913dcddf",
   "metadata": {},
   "outputs": [],
   "source": [
    "Audio(y_hat.cpu(), rate=SAMPLE_RATE, normalize=False)"
   ]
  },
  {
   "cell_type": "code",
   "execution_count": null,
   "id": "bd57af61",
   "metadata": {},
   "outputs": [],
   "source": []
  }
 ],
 "metadata": {
  "kernelspec": {
   "display_name": "Python 3 (ipykernel)",
   "language": "python",
   "name": "python3"
  },
  "language_info": {
   "codemirror_mode": {
    "name": "ipython",
    "version": 3
   },
   "file_extension": ".py",
   "mimetype": "text/x-python",
   "name": "python",
   "nbconvert_exporter": "python",
   "pygments_lexer": "ipython3",
   "version": "3.10.3"
  }
 },
 "nbformat": 4,
 "nbformat_minor": 5
}
