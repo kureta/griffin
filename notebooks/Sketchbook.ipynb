{
 "cells": [
  {
   "cell_type": "code",
   "execution_count": null,
   "id": "22da2524",
   "metadata": {},
   "outputs": [],
   "source": [
    "import sys\n",
    "from pathlib import Path\n",
    "sys.path.append(str(Path.cwd() / 'torchcrepe'))"
   ]
  },
  {
   "cell_type": "code",
   "execution_count": null,
   "id": "d32e5ec3",
   "metadata": {},
   "outputs": [],
   "source": [
    "import matplotlib.pyplot as plt\n",
    "%matplotlib inline\n",
    "import librosa\n",
    "import librosa.display\n",
    "import numpy as np\n",
    "from IPython.display import Audio"
   ]
  },
  {
   "cell_type": "code",
   "execution_count": null,
   "id": "cc0e673d",
   "metadata": {},
   "outputs": [],
   "source": [
    "import torch\n",
    "from torchaudio.transforms import GriffinLim\n",
    "from torchvision.transforms import functional as tvf\n",
    "from torchcrepe import predict\n",
    "from torchcrepe.decode import argmax, weighted_argmax, viterbi"
   ]
  },
  {
   "cell_type": "code",
   "execution_count": null,
   "id": "6bb6fae4",
   "metadata": {},
   "outputs": [],
   "source": [
    "PATH = '/home/kureta/Music/violin/Violin Samples/yee_amazing_grace.wav'"
   ]
  },
  {
   "cell_type": "code",
   "execution_count": null,
   "id": "93da9f1a",
   "metadata": {},
   "outputs": [],
   "source": [
    "SAMPLE_RATE = 44100\n",
    "HOP_LENGTH = 512\n",
    "N_FFT = 2048\n",
    "\n",
    "# crepe hop length has to be the smallest power of 2 greater than `HOP_LENGTH * CREPE_SAMPLE_RATE / SAMPLE_RATE`\n",
    "CREPE_HOP_LENGTH = 256\n",
    "CREPE_SAMPLE_RATE = 16000"
   ]
  },
  {
   "cell_type": "code",
   "execution_count": null,
   "id": "14aea759",
   "metadata": {},
   "outputs": [],
   "source": [
    "y, sr = librosa.load(PATH, mono=False, sr=SAMPLE_RATE)"
   ]
  },
  {
   "cell_type": "code",
   "execution_count": null,
   "id": "8c60356d",
   "metadata": {},
   "outputs": [],
   "source": [
    "s = np.abs(librosa.stft(y, n_fft=N_FFT, hop_length=HOP_LENGTH))\n",
    "# zero out DC offset\n",
    "s[:, 0, :] = 0.0"
   ]
  },
  {
   "cell_type": "code",
   "execution_count": null,
   "id": "b395ec46",
   "metadata": {},
   "outputs": [],
   "source": [
    "librosa.display.specshow(librosa.amplitude_to_db(s[0]),\n",
    "                         n_fft=N_FFT, sr=SAMPLE_RATE, hop_length=HOP_LENGTH, y_axis='linear', x_axis='time')\n",
    "plt.show()"
   ]
  },
  {
   "cell_type": "code",
   "execution_count": null,
   "id": "47641f08",
   "metadata": {},
   "outputs": [],
   "source": [
    "pitches = predict(torch.from_numpy(y).cuda(), 16000, hop_length=256, decoder=viterbi, device='cuda')\n",
    "pitches = tvf.resize(pitches.unsqueeze(1), [1, s.shape[2]]).squeeze(1)"
   ]
  },
  {
   "cell_type": "code",
   "execution_count": null,
   "id": "b9b4fed3",
   "metadata": {},
   "outputs": [],
   "source": [
    "plt.plot(pitches.T.cpu())\n",
    "plt.show()"
   ]
  },
  {
   "cell_type": "code",
   "execution_count": null,
   "id": "cf0b51fc",
   "metadata": {},
   "outputs": [],
   "source": [
    "gl = GriffinLim(n_fft=N_FFT, hop_length=HOP_LENGTH, power=1.0).cuda()"
   ]
  },
  {
   "cell_type": "code",
   "execution_count": null,
   "id": "63eda5de",
   "metadata": {},
   "outputs": [],
   "source": [
    "y_hat = gl(torch.from_numpy(s).cuda())"
   ]
  },
  {
   "cell_type": "code",
   "execution_count": null,
   "id": "913dcddf",
   "metadata": {},
   "outputs": [],
   "source": [
    "Audio(y_hat.cpu(), rate=SAMPLE_RATE, normalize=False)"
   ]
  },
  {
   "cell_type": "code",
   "execution_count": null,
   "id": "35e20c11",
   "metadata": {},
   "outputs": [],
   "source": []
  }
 ],
 "metadata": {
  "kernelspec": {
   "display_name": "Python 3 (ipykernel)",
   "language": "python",
   "name": "python3"
  },
  "language_info": {
   "codemirror_mode": {
    "name": "ipython",
    "version": 3
   },
   "file_extension": ".py",
   "mimetype": "text/x-python",
   "name": "python",
   "nbconvert_exporter": "python",
   "pygments_lexer": "ipython3",
   "version": "3.10.3"
  }
 },
 "nbformat": 4,
 "nbformat_minor": 5
}
