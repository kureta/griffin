{
 "cells": [
  {
   "cell_type": "code",
   "execution_count": null,
   "id": "8c96379a",
   "metadata": {},
   "outputs": [],
   "source": [
    "import matplotlib.pyplot as plt\n",
    "%matplotlib inline"
   ]
  },
  {
   "cell_type": "code",
   "execution_count": null,
   "id": "83fe00b1",
   "metadata": {},
   "outputs": [],
   "source": [
    "from main import LitVAE, AudioDataset\n",
    "import torch\n",
    "import torch.nn.functional as F\n",
    "from torchaudio.transforms import GriffinLim\n",
    "import numpy as np\n",
    "from scipy.spatial import geometric_slerp\n",
    "from IPython.display import Audio\n",
    "import librosa"
   ]
  },
  {
   "cell_type": "code",
   "execution_count": null,
   "id": "e7660e97",
   "metadata": {},
   "outputs": [],
   "source": [
    "def sample(n_dims=64):\n",
    "    x = np.random.standard_normal(n_dims)\n",
    "    x = x / np.sqrt(x.dot(x))\n",
    "    return x"
   ]
  },
  {
   "cell_type": "code",
   "execution_count": null,
   "id": "ca53c452",
   "metadata": {},
   "outputs": [],
   "source": [
    "gl = GriffinLim(n_fft=2048, hop_length=512, power=1.0, n_iter=128).cuda()"
   ]
  },
  {
   "cell_type": "code",
   "execution_count": null,
   "id": "3e73654a",
   "metadata": {},
   "outputs": [],
   "source": [
    "try:\n",
    "    del model\n",
    "except:\n",
    "    pass\n",
    "model = LitVAE.load_from_checkpoint('../lightning_logs/version_0/checkpoints/epoch=0-step=21548.ckpt')"
   ]
  },
  {
   "cell_type": "code",
   "execution_count": null,
   "id": "0e8b7e49",
   "metadata": {},
   "outputs": [],
   "source": [
    "model.cuda()\n",
    "model.eval()\n",
    "pass"
   ]
  },
  {
   "cell_type": "code",
   "execution_count": null,
   "id": "170879b4",
   "metadata": {},
   "outputs": [],
   "source": [
    "zs = geometric_slerp(sample(64), sample(64), np.linspace(0, 1, 100))\n",
    "zs = zs * np.linspace(0, 50, 100)[:, None]\n",
    "zs = torch.from_numpy(zs.astype('float32')).cuda()"
   ]
  },
  {
   "cell_type": "code",
   "execution_count": null,
   "id": "8d383afc",
   "metadata": {},
   "outputs": [],
   "source": [
    "with torch.no_grad():\n",
    "    y_hats = model.vae.decoder(zs)"
   ]
  },
  {
   "cell_type": "code",
   "execution_count": null,
   "id": "917894a2",
   "metadata": {},
   "outputs": [],
   "source": [
    "s = y_hats.cpu().numpy()\n",
    "plt.matshow(s)\n",
    "plt.show()\n",
    "\n",
    "zeros = torch.zeros(y_hats.shape[0], 1, device=y_hats.device)\n",
    "sound = gl(torch.cat([zeros, y_hats], dim=1).T)\n",
    "Audio(sound.cpu().numpy(), rate=44100)"
   ]
  },
  {
   "cell_type": "code",
   "execution_count": null,
   "id": "9b3c417c",
   "metadata": {},
   "outputs": [],
   "source": [
    "PATH = '/home/kureta/Music/violin/Violin Samples/yee_arp_ricochet_130#4.wav'\n",
    "y, sr = librosa.load(PATH, mono=True, sr=44100)\n",
    "s = np.abs(librosa.stft(y, n_fft=2048, hop_length=512))"
   ]
  },
  {
   "cell_type": "code",
   "execution_count": null,
   "id": "43c9fabb",
   "metadata": {},
   "outputs": [],
   "source": [
    "Audio(y, rate=44100)"
   ]
  },
  {
   "cell_type": "code",
   "execution_count": null,
   "id": "2252469b",
   "metadata": {},
   "outputs": [],
   "source": [
    "with torch.no_grad():\n",
    "    y_hats, _, _ = model.vae(torch.from_numpy(s[1:]).T.cuda())"
   ]
  },
  {
   "cell_type": "code",
   "execution_count": null,
   "id": "15be732d",
   "metadata": {},
   "outputs": [],
   "source": [
    "s = y_hats.cpu().numpy()\n",
    "plt.matshow(s)\n",
    "plt.show()\n",
    "\n",
    "zeros = torch.zeros(y_hats.shape[0], 1, device=y_hats.device)\n",
    "sound = gl(torch.cat([zeros, y_hats], dim=1).T)\n",
    "Audio(sound.cpu().numpy(), rate=44100)"
   ]
  },
  {
   "cell_type": "code",
   "execution_count": null,
   "id": "0b1c4d02",
   "metadata": {},
   "outputs": [],
   "source": []
  }
 ],
 "metadata": {
  "kernelspec": {
   "display_name": "Python 3 (ipykernel)",
   "language": "python",
   "name": "python3"
  },
  "language_info": {
   "codemirror_mode": {
    "name": "ipython",
    "version": 3
   },
   "file_extension": ".py",
   "mimetype": "text/x-python",
   "name": "python",
   "nbconvert_exporter": "python",
   "pygments_lexer": "ipython3",
   "version": "3.10.3"
  }
 },
 "nbformat": 4,
 "nbformat_minor": 5
}
